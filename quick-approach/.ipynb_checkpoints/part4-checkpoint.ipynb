{
 "cells": [
  {
   "cell_type": "code",
   "execution_count": null,
   "id": "9ac29880",
   "metadata": {},
   "outputs": [],
   "source": [
    "import boto3\n",
    "import pandas as pd\n",
    "from io import StringIO, BytesIO\n",
    "from datetime import datetime, timedelta"
   ]
  },
  {
   "cell_type": "code",
   "execution_count": 2,
   "id": "68bf62c4",
   "metadata": {},
   "outputs": [],
   "source": [
    "arg_date = '2021-11-15'"
   ]
  },
  {
   "cell_type": "code",
   "execution_count": 3,
   "id": "ab247f4a",
   "metadata": {},
   "outputs": [],
   "source": [
    "arg_date_dt = datetime.strptime(arg_date, '%Y-%m-%d').date() - timedelta(days=1)"
   ]
  },
  {
   "cell_type": "code",
   "execution_count": 4,
   "id": "365de47f",
   "metadata": {},
   "outputs": [
    {
     "data": {
      "text/plain": [
       "datetime.date(2021, 11, 14)"
      ]
     },
     "execution_count": 4,
     "metadata": {},
     "output_type": "execute_result"
    }
   ],
   "source": [
    "arg_date_dt"
   ]
  },
  {
   "cell_type": "code",
   "execution_count": 5,
   "id": "5f4c044a",
   "metadata": {},
   "outputs": [],
   "source": [
    "s3 = boto3.resource('s3')\n",
    "bucket = s3.Bucket('deutsche-boerse-xetra-pds')"
   ]
  },
  {
   "cell_type": "code",
   "execution_count": 6,
   "id": "d1dfabb4",
   "metadata": {},
   "outputs": [],
   "source": [
    "objects = [obj for obj in bucket.objects.all() if datetime.strptime(obj.key.split('/')[0], '%Y-%m-%d').date() >= arg_date_dt]"
   ]
  },
  {
   "cell_type": "code",
   "execution_count": 13,
   "id": "5c6dfdd4",
   "metadata": {},
   "outputs": [
    {
     "data": {
      "text/plain": [
       "[s3.ObjectSummary(bucket_name='deutsche-boerse-xetra-pds', key='2021-11-15/2021-11-15_BINS_XETR00.csv'),\n",
       " s3.ObjectSummary(bucket_name='deutsche-boerse-xetra-pds', key='2021-11-15/2021-11-15_BINS_XETR01.csv')]"
      ]
     },
     "execution_count": 13,
     "metadata": {},
     "output_type": "execute_result"
    }
   ],
   "source": [
    "objects = objects[0:10]"
   ]
  },
  {
   "cell_type": "code",
   "execution_count": 8,
   "id": "8f175eed",
   "metadata": {},
   "outputs": [],
   "source": [
    "csv_obj_init = bucket.Object(key=objects[0].key).get().get('Body').read().decode('utf-8')\n",
    "data = StringIO(csv_obj_init)\n",
    "df_init = pd.read_csv(data, delimiter=',')"
   ]
  },
  {
   "cell_type": "code",
   "execution_count": null,
   "id": "c6dae8e7",
   "metadata": {},
   "outputs": [],
   "source": [
    "df_init.columns"
   ]
  },
  {
   "cell_type": "code",
   "execution_count": null,
   "id": "620ced49",
   "metadata": {},
   "outputs": [],
   "source": [
    "df_all = pd.DataFrame(columns=df_init.columns)\n",
    "for obj in objects:\n",
    "    csv_obj = bucket.Object(key=obj.key).get().get('Body').read().decode('utf-8')\n",
    "    data = StringIO(csv_obj)\n",
    "    df = pd.read_csv(data, delimiter=',')\n",
    "    df_all = df_all.append(df, ignore_index=True)"
   ]
  },
  {
   "cell_type": "code",
   "execution_count": null,
   "id": "6d054a7a",
   "metadata": {},
   "outputs": [],
   "source": [
    "columns = ['ISIN', 'Date', 'Time', 'StartPrice', 'MaxPrice', 'MinPrice', 'EndPrice', 'TradedVolume']\n",
    "df_all = df_all.loc[:, columns]"
   ]
  },
  {
   "cell_type": "code",
   "execution_count": null,
   "id": "d3b1188b",
   "metadata": {},
   "outputs": [],
   "source": [
    "df_all"
   ]
  },
  {
   "cell_type": "code",
   "execution_count": null,
   "id": "b3ad4181",
   "metadata": {},
   "outputs": [],
   "source": [
    "df_all.dropna(inplace=True)"
   ]
  },
  {
   "cell_type": "code",
   "execution_count": null,
   "id": "c48a83f3",
   "metadata": {},
   "outputs": [],
   "source": [
    "df_all.shape"
   ]
  },
  {
   "cell_type": "markdown",
   "id": "9918516c",
   "metadata": {},
   "source": [
    "## Get opening price per ISIN and day"
   ]
  },
  {
   "cell_type": "code",
   "execution_count": null,
   "id": "8d20a192",
   "metadata": {},
   "outputs": [],
   "source": [
    "df_all['opening_price'] = df_all.sort_values(by=['Time']).groupby(['ISIN', 'Date'])['StartPrice'].transform('first')"
   ]
  },
  {
   "cell_type": "code",
   "execution_count": null,
   "id": "c30667e1",
   "metadata": {},
   "outputs": [],
   "source": [
    "df_all[df_all['ISIN']=='AT0000A0E9W5']"
   ]
  },
  {
   "cell_type": "markdown",
   "id": "20f6f2b6",
   "metadata": {},
   "source": [
    "## Get closing price per ISIN and day"
   ]
  },
  {
   "cell_type": "code",
   "execution_count": null,
   "id": "90bbfeac",
   "metadata": {},
   "outputs": [],
   "source": [
    "df_all['closing_price'] = df_all.sort_values(by=['Time']).groupby(['ISIN', 'Date'])['StartPrice'].transform('last')"
   ]
  },
  {
   "cell_type": "code",
   "execution_count": null,
   "id": "9240b91e",
   "metadata": {},
   "outputs": [],
   "source": [
    "df_all[df_all['ISIN']=='AT0000A0E9W5']"
   ]
  },
  {
   "cell_type": "markdown",
   "id": "020dab61",
   "metadata": {},
   "source": [
    "## Aggregations"
   ]
  },
  {
   "cell_type": "code",
   "execution_count": null,
   "id": "4dd73163",
   "metadata": {},
   "outputs": [],
   "source": [
    "df_all = df_all.groupby(['ISIN', 'Date'], as_index=False).agg(opening_price_eur=('opening_price', 'min'), closing_price_eur=('closing_price', 'min'), minimum_price_eur=('MinPrice', 'min'), maximum_price_eur=('MaxPrice', 'max'), daily_traded_volume=('TradedVolume', 'sum'))"
   ]
  },
  {
   "cell_type": "code",
   "execution_count": null,
   "id": "5c5d9b03",
   "metadata": {},
   "outputs": [],
   "source": [
    "df_all"
   ]
  },
  {
   "cell_type": "markdown",
   "id": "a92a5928",
   "metadata": {},
   "source": [
    "## Percent Change Prev Closing"
   ]
  },
  {
   "cell_type": "code",
   "execution_count": null,
   "id": "e97de63a",
   "metadata": {},
   "outputs": [],
   "source": [
    "df_all['prev_closing_price'] = df_all.sort_values(by=['Date']).groupby(['ISIN'])['closing_price_eur'].shift(1)"
   ]
  },
  {
   "cell_type": "code",
   "execution_count": null,
   "id": "5b9d0a25",
   "metadata": {},
   "outputs": [],
   "source": [
    "df_all"
   ]
  },
  {
   "cell_type": "code",
   "execution_count": null,
   "id": "1b113a90",
   "metadata": {},
   "outputs": [],
   "source": [
    "df_all['change_prev_closing_%'] = (df_all['closing_price_eur'] - df_all['prev_closing_price']) / df_all['prev_closing_price'] * 100"
   ]
  },
  {
   "cell_type": "code",
   "execution_count": null,
   "id": "8663c18a",
   "metadata": {},
   "outputs": [],
   "source": [
    "df_all.drop(columns=['prev_closing_price'], inplace=True)"
   ]
  },
  {
   "cell_type": "code",
   "execution_count": null,
   "id": "de84b712",
   "metadata": {},
   "outputs": [],
   "source": [
    "df_all = df_all.round(decimals=2)"
   ]
  },
  {
   "cell_type": "code",
   "execution_count": null,
   "id": "1d106ae5",
   "metadata": {},
   "outputs": [],
   "source": [
    "df_all = df_all[df_all.Date >= arg_date]"
   ]
  },
  {
   "cell_type": "code",
   "execution_count": null,
   "id": "25ae69a3",
   "metadata": {},
   "outputs": [],
   "source": [
    "df_all"
   ]
  },
  {
   "cell_type": "markdown",
   "id": "a676f549",
   "metadata": {},
   "source": [
    "## Write to S3"
   ]
  },
  {
   "cell_type": "code",
   "execution_count": null,
   "id": "5de31bda",
   "metadata": {},
   "outputs": [],
   "source": [
    "key = 'xetra_daily_report_' + datetime.today().strftime(\"%Y%m%d_%H%M%S\") + '.parquet'"
   ]
  },
  {
   "cell_type": "code",
   "execution_count": null,
   "id": "18b42a57",
   "metadata": {},
   "outputs": [],
   "source": [
    "out_buffer = BytesIO()\n",
    "df_all.to_parquet(out_buffer, index=False)\n",
    "bucket_target = s3.Bucket('xetra-target')\n",
    "bucket_target.put_object(Body=out_buffer.getvalue(), Key=key)"
   ]
  },
  {
   "cell_type": "markdown",
   "id": "3c2fe394",
   "metadata": {},
   "source": [
    "## Reading the uploaded file"
   ]
  },
  {
   "cell_type": "code",
   "execution_count": null,
   "id": "9682c753",
   "metadata": {},
   "outputs": [],
   "source": [
    "for obj in bucket_target.objects.all():\n",
    "    print(obj.key)"
   ]
  },
  {
   "cell_type": "code",
   "execution_count": null,
   "id": "9ac0c5de",
   "metadata": {},
   "outputs": [],
   "source": [
    "prq_obj = bucket_target.Object(key='xetra_daily_report_20210510_101629.parquet').get().get('Body').read()\n",
    "data = BytesIO(prq_obj)\n",
    "df_report = pd.read_parquet(data)"
   ]
  },
  {
   "cell_type": "code",
   "execution_count": null,
   "id": "2c007b4b",
   "metadata": {},
   "outputs": [],
   "source": [
    "df_report"
   ]
  }
 ],
 "metadata": {
  "kernelspec": {
   "display_name": "Python 3 (ipykernel)",
   "language": "python",
   "name": "python3"
  },
  "language_info": {
   "codemirror_mode": {
    "name": "ipython",
    "version": 3
   },
   "file_extension": ".py",
   "mimetype": "text/x-python",
   "name": "python",
   "nbconvert_exporter": "python",
   "pygments_lexer": "ipython3",
   "version": "3.8.10"
  }
 },
 "nbformat": 4,
 "nbformat_minor": 5
}
