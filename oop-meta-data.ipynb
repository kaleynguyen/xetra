{
 "cells": [
  {
   "cell_type": "markdown",
   "source": [
    "# Adapter Layer\n",
    "* Fix business days, possible case scenarios of meta_data.csv file\n",
    "* Fix return types of objects and filter on prefix based on the structure of boto3 Prefix argument.\n",
    "# Application Layer (ETL)\n"
   ],
   "metadata": {
    "collapsed": false,
    "pycharm": {
     "name": "#%% md\n"
    }
   }
  },
  {
   "cell_type": "code",
   "execution_count": 4,
   "outputs": [],
   "source": [
    "import boto3\n",
    "import pandas as pd\n",
    "from io import StringIO, BytesIO\n",
    "from datetime import datetime, timedelta"
   ],
   "metadata": {
    "collapsed": false,
    "pycharm": {
     "name": "#%%\n"
    }
   }
  },
  {
   "cell_type": "code",
   "execution_count": 20,
   "outputs": [
    {
     "data": {
      "text/plain": "  source_date  datetime_of_processing\n0  2022-03-25     2022-03-25 12:23:23\n1  2022-03-23     2022-03-23 12:23:23",
      "text/html": "<div>\n<style scoped>\n    .dataframe tbody tr th:only-of-type {\n        vertical-align: middle;\n    }\n\n    .dataframe tbody tr th {\n        vertical-align: top;\n    }\n\n    .dataframe thead th {\n        text-align: right;\n    }\n</style>\n<table border=\"1\" class=\"dataframe\">\n  <thead>\n    <tr style=\"text-align: right;\">\n      <th></th>\n      <th>source_date</th>\n      <th>datetime_of_processing</th>\n    </tr>\n  </thead>\n  <tbody>\n    <tr>\n      <th>0</th>\n      <td>2022-03-25</td>\n      <td>2022-03-25 12:23:23</td>\n    </tr>\n    <tr>\n      <th>1</th>\n      <td>2022-03-23</td>\n      <td>2022-03-23 12:23:23</td>\n    </tr>\n  </tbody>\n</table>\n</div>"
     },
     "execution_count": 20,
     "metadata": {},
     "output_type": "execute_result"
    }
   ],
   "source": [
    "def read_csv_to_df(bucket, key, decode='utf-8', delimeter=','):\n",
    "    csv_obj_init = bucket.Object(key=key).get().get('Body').read().decode(decode)\n",
    "    dat = StringIO(csv_obj_init)\n",
    "    df = pd.read_csv(dat, delimiter=delimeter)\n",
    "    return df\n",
    "meta_key = 'meta_data.csv'\n",
    "bucket_name_target = 'destination-xetra'\n",
    "s3 = boto3.resource('s3')\n",
    "bucket_target = s3.Bucket(bucket_name_target)\n",
    "df_meta = read_csv_to_df(bucket_target, meta_key)\n",
    "df_meta"
   ],
   "metadata": {
    "collapsed": false,
    "pycharm": {
     "name": "#%%\n"
    }
   }
  },
  {
   "cell_type": "code",
   "execution_count": 30,
   "outputs": [
    {
     "data": {
      "text/plain": "[datetime.date(2022, 3, 25),\n datetime.date(2022, 3, 26),\n datetime.date(2022, 3, 27)]"
     },
     "execution_count": 30,
     "metadata": {},
     "output_type": "execute_result"
    }
   ],
   "source": [
    "arg_date = '2022-03-25'\n",
    "today_str = '2022-03-27'\n",
    "min_date = datetime.strptime(arg_date, '%Y-%m-%d').date() - timedelta(days=1)\n",
    "today = datetime.strptime(today_str, '%Y-%m-%d').date()\n",
    "date_list = [(min_date + timedelta(days=x)) for x in range(0, (today - min_date).days + 1)]\n",
    "date_list[1:]"
   ],
   "metadata": {
    "collapsed": false,
    "pycharm": {
     "name": "#%%\n"
    }
   }
  },
  {
   "cell_type": "code",
   "execution_count": 31,
   "outputs": [
    {
     "data": {
      "text/plain": "datetime.date(2022, 3, 23)"
     },
     "execution_count": 31,
     "metadata": {},
     "output_type": "execute_result"
    }
   ],
   "source": [
    "src_date = set(pd.to_datetime(df_meta['source_date']).dt.date)\n",
    "min_date = min(set(date_list) - src_date) - timedelta(days=1) #setdiff\n",
    "min_date"
   ],
   "metadata": {
    "collapsed": false,
    "pycharm": {
     "name": "#%%\n"
    }
   }
  },
  {
   "cell_type": "code",
   "execution_count": 32,
   "outputs": [
    {
     "data": {
      "text/plain": "['2022-03-24', '2022-03-25', '2022-03-26', '2022-03-27']"
     },
     "execution_count": 32,
     "metadata": {},
     "output_type": "execute_result"
    }
   ],
   "source": [
    "return_dates = [date.strftime('%Y-%m-%d') for date in date_list if date >= min_date]\n",
    "return_dates"
   ],
   "metadata": {
    "collapsed": false,
    "pycharm": {
     "name": "#%%\n"
    }
   }
  },
  {
   "cell_type": "code",
   "execution_count": 24,
   "outputs": [],
   "source": [
    "return_min_date = arg_date"
   ],
   "metadata": {
    "collapsed": false,
    "pycharm": {
     "name": "#%%\n"
    }
   }
  },
  {
   "cell_type": "code",
   "execution_count": 2,
   "outputs": [],
   "source": [
    "# Adapter Layer - connecting with source and destination\n",
    "def read_csv_to_df(bucket, key, decode='utf-8', delimeter=','):\n",
    "    csv_obj_init = bucket.Object(key=key).get().get('Body').read().decode(decode)\n",
    "    dat = StringIO(csv_obj_init)\n",
    "    df = pd.read_csv(dat, delimiter=delimeter)\n",
    "    return df\n",
    "\n",
    "def write_df_to_s3(bucket, df, key):\n",
    "    out_buffer = BytesIO()\n",
    "    df.to_parquet(out_buffer, index=False)\n",
    "    bucket.put_object(Body=out_buffer.getvalue(), Key=key)\n",
    "    return True\n",
    "\n",
    "def list_files_in_prefix(bucket, prefix):\n",
    "    files = [obj.key for obj in bucket.objects.filter(Prefix=prefix)]\n",
    "    return files\n"
   ],
   "metadata": {
    "collapsed": false,
    "pycharm": {
     "name": "#%%\n"
    }
   }
  },
  {
   "cell_type": "code",
   "execution_count": 3,
   "outputs": [],
   "source": [
    "# Application ETL\n",
    "def extract(bucket, date_list):\n",
    "    files = [key for date in date_list for key in list_files_in_prefix(bucket, date)]\n",
    "    df = pd.concat([read_csv_to_df(bucket, o) for o in files], ignore_index=True)\n",
    "    return df\n",
    "def transform_report1(df,columns, arg_date):\n",
    "    df['Date'] = pd.to_datetime(df['Date'])\n",
    "    df = df.loc[:,columns]\n",
    "    df = df.dropna()\n",
    "    # Get opening price per ISIN and day\n",
    "    df['opening_price'] = df.sort_values(by=['Time']).groupby(['ISIN', 'Date'])['StartPrice'].transform('first')\n",
    "    # Get closing price per ISIN and day\n",
    "    df['closing_price'] = df.sort_values(by=['Time']).groupby(['ISIN', 'Date'])['StartPrice'].transform('last')\n",
    "    # Perform aggregation per each (ISIN,Date)\n",
    "    df = df.groupby(['ISIN', 'Date'], as_index=False).\\\n",
    "        agg({\n",
    "        'opening_price': 'min',\n",
    "        'closing_price': 'min',\n",
    "        'MinPrice': 'min',\n",
    "        'MaxPrice': 'max',\n",
    "        'TradedVolume': 'sum'\n",
    "    }).rename(\n",
    "        columns = { 'opening_price': 'opening_price_eur',\n",
    "                    'closing_price': 'closing_price_eur',\n",
    "                    'MinPrice': 'minimum_price_eur',\n",
    "                    'MaxPrice': 'max_price_eur',\n",
    "                    'TradedVolume': 'daily_traded_volume'\n",
    "                    }\n",
    "    )\n",
    "    # Compute percent change prev closing\n",
    "    df['prev_closing_price'] = df.sort_values('Date').groupby(['ISIN'])['closing_price_eur'].shift(1) #lag(1)\n",
    "    df['prev_closing_perc'] = (df['closing_price_eur'] - df['prev_closing_price'])/df['closing_price_eur']*100\n",
    "    df = df.drop(columns=['prev_closing_price'])\n",
    "    df = df.round(decimals=2)\n",
    "    df = df[df.Date >= arg_date] #remove nan rows of unknown lag\n",
    "    return df\n",
    "\n",
    "def load(bucket,\n",
    "         df,\n",
    "         target_key='xetra_daily_report',\n",
    "         target_format='.parquet'):\n",
    "    to_key = target_key + datetime.today().strftime('%Y%m%d_%H%M%S') + target_format\n",
    "    write_df_to_s3(bucket, df, to_key)\n",
    "    return True\n",
    "\n",
    "# ETL\n",
    "def etl_report1(source_bucket, target_bucket, date_list, columns, arg_date, target_key, target_format):\n",
    "    df = extract(source_bucket, date_list)\n",
    "    df = transform_report1(df, columns, arg_date)\n",
    "    load(target_bucket, df, target_key, target_format)\n",
    "    return True"
   ],
   "metadata": {
    "collapsed": false,
    "pycharm": {
     "name": "#%%\n"
    }
   }
  },
  {
   "cell_type": "code",
   "execution_count": 63,
   "outputs": [],
   "source": [
    "# Application not core\n",
    "def return_date_list(arg_date, src_format):\n",
    "    min_date = datetime.strptime(arg_date, src_format).date() - timedelta(days=1)\n",
    "    today = datetime.today().date()\n",
    "    date_list = [(min_date + timedelta(days=x)).strftime(src_format) \\\n",
    "                        for x in range(0, (today - min_date).days + 1)]\n",
    "    return date_list"
   ],
   "metadata": {
    "collapsed": false,
    "pycharm": {
     "name": "#%%\n"
    }
   }
  },
  {
   "cell_type": "code",
   "execution_count": 64,
   "outputs": [],
   "source": [
    "# main function entry point\n",
    "def main():\n",
    "    #parameters/config\n",
    "    source_bucket = 'deutsche-boerse-xetra-pds'\n",
    "    target_bucket = 'destination-xetra'\n",
    "    src_format =  \"%Y-%m-%d\"\n",
    "    columns = ['ISIN', 'Mnemonic', 'SecurityDesc',\n",
    "            'SecurityType', 'Currency',\n",
    "            'SecurityID', 'Date', 'Time', 'StartPrice', 'MaxPrice', 'MinPrice',\n",
    "            'EndPrice', 'TradedVolume']\n",
    "    target_key = 'xetra_daily_report_'\n",
    "    target_format = '.parquet'\n",
    "    arg_date = (datetime.today() - timedelta(days=3)).date().strftime(src_format)\n",
    "\n",
    "    # init\n",
    "    s3 = boto3.resource('s3')\n",
    "    source = s3.Bucket(source_bucket)\n",
    "    target = s3.Bucket(target_bucket)\n",
    "\n",
    "    # run application\n",
    "    date_list = return_date_list(arg_date, src_format)\n",
    "    etl_report1(source, target, date_list, columns, arg_date, target_key, target_format)\n"
   ],
   "metadata": {
    "collapsed": false,
    "pycharm": {
     "name": "#%%\n"
    }
   }
  },
  {
   "cell_type": "code",
   "execution_count": 65,
   "outputs": [],
   "source": [
    "main()"
   ],
   "metadata": {
    "collapsed": false,
    "pycharm": {
     "name": "#%%\n"
    }
   }
  },
  {
   "cell_type": "code",
   "execution_count": 66,
   "outputs": [
    {
     "name": "stdout",
     "output_type": "stream",
     "text": [
      "2021-11-03 14:33:54 destination-snowflake\r\n",
      "2022-03-27 11:33:16 destination-xetra\r\n",
      "2021-12-15 13:45:47 lending-club\r\n",
      "2022-03-25 20:37:36 source-covid-19-jobs\r\n",
      "2021-11-03 14:33:28 source-snowflake\r\n",
      "2021-11-02 22:08:15 xetra-target\r\n"
     ]
    }
   ],
   "source": [
    "!aws s3 ls"
   ],
   "metadata": {
    "collapsed": false,
    "pycharm": {
     "name": "#%%\n"
    }
   }
  },
  {
   "cell_type": "code",
   "execution_count": 68,
   "outputs": [
    {
     "name": "stdout",
     "output_type": "stream",
     "text": [
      "xetra_daily_report_20220327_115215.parquet\n",
      "xetra_daily_report_20220328_141724.parquet\n",
      "xetra_daily_report_20220328_194558.parquet\n",
      "xetra_daily_report_20220328_195337.parquet\n",
      "xetra_daily_report_20220328_233207.parquet\n"
     ]
    },
    {
     "data": {
      "text/plain": "           ISIN       Date  opening_price_eur  closing_price_eur  \\\n0  AT000000STR1 2022-03-25              36.80              36.40   \n1  AT000000STR1 2022-03-28              36.95              36.85   \n2  AT00000FACC2 2022-03-25               7.83               7.92   \n3  AT00000FACC2 2022-03-28               8.16               8.16   \n4  AT0000606306 2022-03-25              12.39              12.53   \n\n   minimum_price_eur  max_price_eur  daily_traded_volume  prev_closing_perc  \n0              36.40          36.80                  119              -1.65  \n1              36.75          37.00                  260               1.22  \n2               7.83           7.92                   74              -0.76  \n3               8.16           8.16                   50               2.94  \n4              12.32          12.77                19227               0.64  ",
      "text/html": "<div>\n<style scoped>\n    .dataframe tbody tr th:only-of-type {\n        vertical-align: middle;\n    }\n\n    .dataframe tbody tr th {\n        vertical-align: top;\n    }\n\n    .dataframe thead th {\n        text-align: right;\n    }\n</style>\n<table border=\"1\" class=\"dataframe\">\n  <thead>\n    <tr style=\"text-align: right;\">\n      <th></th>\n      <th>ISIN</th>\n      <th>Date</th>\n      <th>opening_price_eur</th>\n      <th>closing_price_eur</th>\n      <th>minimum_price_eur</th>\n      <th>max_price_eur</th>\n      <th>daily_traded_volume</th>\n      <th>prev_closing_perc</th>\n    </tr>\n  </thead>\n  <tbody>\n    <tr>\n      <th>0</th>\n      <td>AT000000STR1</td>\n      <td>2022-03-25</td>\n      <td>36.80</td>\n      <td>36.40</td>\n      <td>36.40</td>\n      <td>36.80</td>\n      <td>119</td>\n      <td>-1.65</td>\n    </tr>\n    <tr>\n      <th>1</th>\n      <td>AT000000STR1</td>\n      <td>2022-03-28</td>\n      <td>36.95</td>\n      <td>36.85</td>\n      <td>36.75</td>\n      <td>37.00</td>\n      <td>260</td>\n      <td>1.22</td>\n    </tr>\n    <tr>\n      <th>2</th>\n      <td>AT00000FACC2</td>\n      <td>2022-03-25</td>\n      <td>7.83</td>\n      <td>7.92</td>\n      <td>7.83</td>\n      <td>7.92</td>\n      <td>74</td>\n      <td>-0.76</td>\n    </tr>\n    <tr>\n      <th>3</th>\n      <td>AT00000FACC2</td>\n      <td>2022-03-28</td>\n      <td>8.16</td>\n      <td>8.16</td>\n      <td>8.16</td>\n      <td>8.16</td>\n      <td>50</td>\n      <td>2.94</td>\n    </tr>\n    <tr>\n      <th>4</th>\n      <td>AT0000606306</td>\n      <td>2022-03-25</td>\n      <td>12.39</td>\n      <td>12.53</td>\n      <td>12.32</td>\n      <td>12.77</td>\n      <td>19227</td>\n      <td>0.64</td>\n    </tr>\n  </tbody>\n</table>\n</div>"
     },
     "execution_count": 68,
     "metadata": {},
     "output_type": "execute_result"
    }
   ],
   "source": [
    "# Read the uploaded files\n",
    "target = boto3.resource('s3').Bucket('destination-xetra')\n",
    "for obj in target.objects.all():\n",
    "    print(obj.key)\n",
    "prq_obj = target.Object(key='xetra_daily_report_20220328_233207.parquet').get().get('Body').read()\n",
    "data = BytesIO(prq_obj)\n",
    "df_report = pd.read_parquet(data)\n",
    "df_report.head()"
   ],
   "metadata": {
    "collapsed": false,
    "pycharm": {
     "name": "#%%\n"
    }
   }
  },
  {
   "cell_type": "code",
   "execution_count": 67,
   "outputs": [],
   "source": [],
   "metadata": {
    "collapsed": false,
    "pycharm": {
     "name": "#%%\n"
    }
   }
  }
 ],
 "metadata": {
  "kernelspec": {
   "display_name": "Python 3",
   "language": "python",
   "name": "python3"
  },
  "language_info": {
   "codemirror_mode": {
    "name": "ipython",
    "version": 2
   },
   "file_extension": ".py",
   "mimetype": "text/x-python",
   "name": "python",
   "nbconvert_exporter": "python",
   "pygments_lexer": "ipython2",
   "version": "2.7.6"
  }
 },
 "nbformat": 4,
 "nbformat_minor": 0
}